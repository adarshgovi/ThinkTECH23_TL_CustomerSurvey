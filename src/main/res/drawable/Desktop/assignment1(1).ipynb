{
 "cells": [
  {
   "attachments": {},
   "cell_type": "markdown",
   "id": "b933e674",
   "metadata": {
    "deletable": false,
    "editable": false,
    "nbgrader": {
     "cell_type": "markdown",
     "checksum": "65f13a7102f54c6166664cd59cd4441b",
     "grade": false,
     "grade_id": "cell-6fb97cc6c46f614f",
     "locked": true,
     "schema_version": 3,
     "solution": false,
     "task": false
    }
   },
   "source": [
    "# MATH 307 Assignment 1\n",
    "\n",
    "* See [Mathematical Python](https://www.math.ubc.ca/~pwalls/math-python/) for an introduction to Python and Jupyter\n",
    "* See [MATH 307 Jupyter Notebooks](https://ubcmath.github.io/MATH307/) for examples\n",
    "* Write your solutions in the cells with `YOUR CODE HERE` (all other cells are ignored by the grader)\n",
    "* Run the tests to verify your solutions\n",
    "* There are **hidden tests** therefore your solutions may not be entirely correct even if they pass the tests below\n",
    "* Submit your `.ipynb` notebook file to Canvas"
   ]
  },
  {
   "cell_type": "code",
   "execution_count": 2,
   "id": "98d1a229",
   "metadata": {
    "deletable": false,
    "editable": false,
    "nbgrader": {
     "cell_type": "code",
     "checksum": "fa9923f1ffd3fa5c02612f09149b6426",
     "grade": false,
     "grade_id": "cell-28e73ad24406cf71",
     "locked": true,
     "schema_version": 3,
     "solution": false,
     "task": false
    }
   },
   "outputs": [],
   "source": [
    "import numpy as np\n",
    "import scipy.linalg as la\n",
    "import matplotlib.pyplot as plt"
   ]
  },
  {
   "attachments": {},
   "cell_type": "markdown",
   "id": "eb6f18c9",
   "metadata": {
    "deletable": false,
    "editable": false,
    "nbgrader": {
     "cell_type": "markdown",
     "checksum": "65a848a56465f9a991d72dceb43c090a",
     "grade": false,
     "grade_id": "cell-f18ec83644a50221",
     "locked": true,
     "schema_version": 3,
     "solution": false,
     "task": false
    }
   },
   "source": [
    "## Problem 1 (2 marks)\n",
    "\n",
    "Use the function `scipy.linalg.solve` (see the [documentation](https://docs.scipy.org/doc/scipy/reference/generated/scipy.linalg.solve.html)) to compute the solution $\\mathbf{x}$ of the linear system $A \\mathbf{x} = \\mathbf{b}$ where\n",
    "\n",
    "$$\n",
    "A = \\left[ \\begin{array}{rrr} 1 & 5 & 2 \\\\ -1 & 2 & 3 \\\\ 6 & -2 & -1 \\end{array} \\right]\n",
    "\\hspace{10mm}\n",
    "\\mathbf{b} = \\begin{bmatrix} 1 \\\\ 5 \\\\ 2 \\end{bmatrix}\n",
    "$$"
   ]
  },
  {
   "cell_type": "code",
   "execution_count": 6,
   "id": "5aa9a09e",
   "metadata": {
    "deletable": false,
    "nbgrader": {
     "cell_type": "code",
     "checksum": "9608918da9d9f81f6a03f8ae73a48298",
     "grade": false,
     "grade_id": "cell-2b6649b9e84a3fe7",
     "locked": false,
     "schema_version": 3,
     "solution": true,
     "task": false
    }
   },
   "outputs": [],
   "source": [
    "# YOUR CODE HERE\n",
    "A= np.array([[1, 5, 2], [-1,2,3],[6,-2,-1]])\n",
    "b=np.array([1,5,2])\n",
    "x = la.solve(A,b)"
   ]
  },
  {
   "cell_type": "code",
   "execution_count": 7,
   "id": "1ccc17ea",
   "metadata": {
    "deletable": false,
    "editable": false,
    "nbgrader": {
     "cell_type": "code",
     "checksum": "dffa3bbcd006da1a7a735f8587b1d29a",
     "grade": true,
     "grade_id": "cell-f3a00bdcad2e110b",
     "locked": true,
     "points": 1,
     "schema_version": 3,
     "solution": false,
     "task": false
    }
   },
   "outputs": [
    {
     "name": "stdout",
     "output_type": "stream",
     "text": [
      "Problem 1 Test 1: Success!\n"
     ]
    }
   ],
   "source": [
    "\"Verify type and size of x. (1 mark)\"\n",
    "assert isinstance(x,np.ndarray) , \"x should be a NumPy array.\"\n",
    "assert x.size == 3 , \"x should be a vector length 3.\"\n",
    "print(\"Problem 1 Test 1: Success!\")"
   ]
  },
  {
   "cell_type": "code",
   "execution_count": 8,
   "id": "03144c7b",
   "metadata": {
    "deletable": false,
    "editable": false,
    "nbgrader": {
     "cell_type": "code",
     "checksum": "982352237976923d06b2f9a3dc1fa996",
     "grade": true,
     "grade_id": "cell-cf2d3c78ebad6c75",
     "locked": true,
     "points": 1,
     "schema_version": 3,
     "solution": false,
     "task": false
    }
   },
   "outputs": [
    {
     "name": "stdout",
     "output_type": "stream",
     "text": [
      "Problem 1 Test 2: Success!\n"
     ]
    }
   ],
   "source": [
    "\"Verify values of x. This cell contains hidden tests. (1 mark)\"\n",
    "assert np.allclose(x[0],0.44927536) , \"The first entry of x should be 0.44927536.\"\n",
    "print(\"Problem 1 Test 2: Success!\")"
   ]
  },
  {
   "attachments": {},
   "cell_type": "markdown",
   "id": "ce89899b",
   "metadata": {
    "deletable": false,
    "editable": false,
    "nbgrader": {
     "cell_type": "markdown",
     "checksum": "42f65faf45c369679a0d8297b81aaddf",
     "grade": false,
     "grade_id": "cell-6a3342a1ca690ce4",
     "locked": true,
     "schema_version": 3,
     "solution": false,
     "task": false
    }
   },
   "source": [
    "## Problem 2 (7 marks)\n",
    "\n",
    "Consider the $N \\times N$ matrix\n",
    "\n",
    "$$\n",
    "A =  \\left[ \\begin{array}{rrrrr}\n",
    "2 & -1 & & & \\\\\n",
    "-1 & 2 & -1 & & \\\\\n",
    "& \\ddots & \\ddots & \\ddots & \\\\\n",
    "& & -1 & 2 & -1 \\\\\n",
    "& & & -1 & 2 \\\\\n",
    "\\end{array}\n",
    "\\right]\n",
    "$$\n",
    "\n",
    "In other words, $A$ is the matrix with 2 in all main diagonal entries, -1 in all upper and lower diagonal entries, and 0 everywhere else."
   ]
  },
  {
   "attachments": {},
   "cell_type": "markdown",
   "id": "67509bb6",
   "metadata": {
    "deletable": false,
    "editable": false,
    "nbgrader": {
     "cell_type": "markdown",
     "checksum": "da1f09109c094a4b9682d3889400793b",
     "grade": false,
     "grade_id": "cell-e512077bac0931e3",
     "locked": true,
     "schema_version": 3,
     "solution": false,
     "task": false
    }
   },
   "source": [
    "### Problem 2a (3 marks)\n",
    "\n",
    "Use the function `np.diag` (see [documentation](https://numpy.org/doc/stable/reference/generated/numpy.diag.html)) to construct the matrix $A$ for $N = 40$."
   ]
  },
  {
   "cell_type": "code",
   "execution_count": 31,
   "id": "0ddd79de",
   "metadata": {
    "deletable": false,
    "nbgrader": {
     "cell_type": "code",
     "checksum": "ca2733dbbfedf3295739410d33677b3a",
     "grade": false,
     "grade_id": "cell-205eca1d6c3750f3",
     "locked": false,
     "schema_version": 3,
     "solution": true,
     "task": false
    }
   },
   "outputs": [],
   "source": [
    "# YOUR CODE HERE\n",
    "N=40\n",
    "mainDiag=np.full(N, 2)\n",
    "otherDiag=np.full(N-1, -1)\n",
    "A = np.diag(mainDiag)+np.diag(otherDiag,1)+np.diag(otherDiag,-1)"
   ]
  },
  {
   "cell_type": "code",
   "execution_count": 32,
   "id": "fb3bf547",
   "metadata": {
    "deletable": false,
    "editable": false,
    "nbgrader": {
     "cell_type": "code",
     "checksum": "d919665e33ea610b3a3601bc4d482113",
     "grade": true,
     "grade_id": "cell-9cf55f50d502f046",
     "locked": true,
     "points": 1,
     "schema_version": 3,
     "solution": false,
     "task": false
    }
   },
   "outputs": [
    {
     "name": "stdout",
     "output_type": "stream",
     "text": [
      "Problem 2a Test 1: Success!\n"
     ]
    }
   ],
   "source": [
    "\"Verify type of A. (1 mark)\"\n",
    "assert isinstance(A,np.ndarray)\n",
    "print(\"Problem 2a Test 1: Success!\")"
   ]
  },
  {
   "cell_type": "code",
   "execution_count": 33,
   "id": "998342ab",
   "metadata": {
    "deletable": false,
    "editable": false,
    "nbgrader": {
     "cell_type": "code",
     "checksum": "990905a293c42ca74c20263957bc5990",
     "grade": true,
     "grade_id": "cell-2083eb4b969c492e",
     "locked": true,
     "points": 1,
     "schema_version": 3,
     "solution": false,
     "task": false
    }
   },
   "outputs": [
    {
     "name": "stdout",
     "output_type": "stream",
     "text": [
      "Problem 2a Test 2: Success!\n"
     ]
    }
   ],
   "source": [
    "\"Verify shape of A. (1 mark)\"\n",
    "assert A.shape == (40,40) , \"A should be a 40 by 40 matrix.\"\n",
    "print(\"Problem 2a Test 2: Success!\")"
   ]
  },
  {
   "cell_type": "code",
   "execution_count": 34,
   "id": "6ef5a560",
   "metadata": {
    "deletable": false,
    "editable": false,
    "nbgrader": {
     "cell_type": "code",
     "checksum": "e53e8672204e98a4ae398c2718e4fa85",
     "grade": true,
     "grade_id": "cell-28f84b0ec9fa92cd",
     "locked": true,
     "points": 1,
     "schema_version": 3,
     "solution": false,
     "task": false
    }
   },
   "outputs": [
    {
     "name": "stdout",
     "output_type": "stream",
     "text": [
      "Problem 2a Test 3: Success!\n"
     ]
    }
   ],
   "source": [
    "\"Verify values of A. This cell contains hidden tests. (1 mark)\"\n",
    "assert A[0,0] == 2 , \"First entry of A should be 2.\"\n",
    "print(\"Problem 2a Test 3: Success!\")"
   ]
  },
  {
   "attachments": {},
   "cell_type": "markdown",
   "id": "e2bd0fa1",
   "metadata": {
    "deletable": false,
    "editable": false,
    "nbgrader": {
     "cell_type": "markdown",
     "checksum": "91bdadb1b139fe3748b4db8f258410ed",
     "grade": false,
     "grade_id": "cell-a7bf00b7e17d2c20",
     "locked": true,
     "schema_version": 3,
     "solution": false,
     "task": false
    }
   },
   "source": [
    "### Problem 2b (3 marks)\n",
    "\n",
    "Use the function `scipy.linalg.lu` (see [documentation](https://docs.scipy.org/doc/scipy/reference/generated/scipy.linalg.lu.html)) to compute the LU decomposition of $A$ for $N = 40$. The result is 3 matrices `P`, `L` and `U`. In this case, the matrix $P$ is the identity matrix and so $A = LU$."
   ]
  },
  {
   "cell_type": "code",
   "execution_count": 35,
   "id": "5b140c0f",
   "metadata": {
    "deletable": false,
    "nbgrader": {
     "cell_type": "code",
     "checksum": "49d6d3f866426284a60761aac34522f0",
     "grade": false,
     "grade_id": "cell-7562c473413d37f6",
     "locked": false,
     "schema_version": 3,
     "solution": true,
     "task": false
    }
   },
   "outputs": [],
   "source": [
    "# YOUR CODE HERE\n",
    "P, L, U = la.lu(A) "
   ]
  },
  {
   "cell_type": "code",
   "execution_count": 36,
   "id": "2320017e",
   "metadata": {
    "deletable": false,
    "editable": false,
    "nbgrader": {
     "cell_type": "code",
     "checksum": "0bb745cbd944282a0b980064e0229a78",
     "grade": true,
     "grade_id": "cell-fe7cede3b8fea3f2",
     "locked": true,
     "points": 1,
     "schema_version": 3,
     "solution": false,
     "task": false
    }
   },
   "outputs": [
    {
     "name": "stdout",
     "output_type": "stream",
     "text": [
      "Problem 2b Test 1: Success!\n"
     ]
    }
   ],
   "source": [
    "\"Verify P is the identity matrix. (1 mark)\"\n",
    "assert np.allclose(P,np.eye(40)) , \"P should be the identity matrix of size 40.\"\n",
    "print(\"Problem 2b Test 1: Success!\")"
   ]
  },
  {
   "cell_type": "code",
   "execution_count": 37,
   "id": "538659ea",
   "metadata": {
    "deletable": false,
    "editable": false,
    "nbgrader": {
     "cell_type": "code",
     "checksum": "0b640f746b948597a59283991301233a",
     "grade": true,
     "grade_id": "cell-4562986454fbb5fb",
     "locked": true,
     "points": 1,
     "schema_version": 3,
     "solution": false,
     "task": false
    }
   },
   "outputs": [
    {
     "name": "stdout",
     "output_type": "stream",
     "text": [
      "Problem 2b Test 2: Success!\n"
     ]
    }
   ],
   "source": [
    "\"Verify size of L and U. (1 mark)\"\n",
    "assert L.shape == (40,40) , \"L should be a 40 by 40 matrix.\"\n",
    "assert U.shape == (40,40) , \"U should be a 40 by 40 matrix.\"\n",
    "print(\"Problem 2b Test 2: Success!\")"
   ]
  },
  {
   "cell_type": "code",
   "execution_count": 38,
   "id": "44c6ef88",
   "metadata": {
    "deletable": false,
    "editable": false,
    "nbgrader": {
     "cell_type": "code",
     "checksum": "087de0980dae57ec66eccf6d22021ab7",
     "grade": true,
     "grade_id": "cell-400ffbc5e17914a9",
     "locked": true,
     "points": 1,
     "schema_version": 3,
     "solution": false,
     "task": false
    }
   },
   "outputs": [
    {
     "name": "stdout",
     "output_type": "stream",
     "text": [
      "Problem 2b Test 3: Success!\n"
     ]
    }
   ],
   "source": [
    "\"Verify values of L and U. This cell contains hidden tests. (1 mark)\"\n",
    "assert L.shape == (40,40) , \"L should be a 40 by 40 matrix.\"\n",
    "assert U.shape == (40,40) , \"U should be a 40 by 40 matrix.\"\n",
    "print(\"Problem 2b Test 3: Success!\")"
   ]
  },
  {
   "attachments": {},
   "cell_type": "markdown",
   "id": "ebd1c6f5",
   "metadata": {
    "deletable": false,
    "editable": false,
    "nbgrader": {
     "cell_type": "markdown",
     "checksum": "671971d2cd7972cfda9504d5c8759476",
     "grade": false,
     "grade_id": "cell-22c92c6e49668f7f",
     "locked": true,
     "schema_version": 3,
     "solution": false,
     "task": false
    }
   },
   "source": [
    "### Problem 2c (1 mark)\n",
    "\n",
    "Consider the vector\n",
    "\n",
    "$$\n",
    "\\mathbf{b} = \\begin{bmatrix} V \\\\ \\vdots \\\\ V \\end{bmatrix}\n",
    "$$\n",
    "\n",
    "where $V$ is a constant. Let us solve the system $A \\mathbf{x} = \\mathbf{b}$ (where $A$ is the matrix from 2(a)) in 2 ways:\n",
    "\n",
    "1. Directly using `scipy.linalg.solve`.\n",
    "2. Using the LU decomposition and the function `scipy.linalg.solve_triangular`.\n",
    "\n",
    "Run the cells below several times and observe the results:"
   ]
  },
  {
   "cell_type": "code",
   "execution_count": 39,
   "id": "25ce2c36",
   "metadata": {
    "deletable": false,
    "editable": false,
    "nbgrader": {
     "cell_type": "code",
     "checksum": "e95244184bb835742dba3ebcd8172ff0",
     "grade": false,
     "grade_id": "cell-992971dc3201c8dd",
     "locked": true,
     "schema_version": 3,
     "solution": false,
     "task": false
    }
   },
   "outputs": [],
   "source": [
    "V = 12\n",
    "N = 40\n",
    "b = V*np.ones((N,1))"
   ]
  },
  {
   "cell_type": "code",
   "execution_count": 42,
   "id": "637aa686",
   "metadata": {
    "deletable": false,
    "editable": false,
    "nbgrader": {
     "cell_type": "code",
     "checksum": "16eb66a9311582f56471d8cd3f138166",
     "grade": false,
     "grade_id": "cell-250ebd8766f71e69",
     "locked": true,
     "schema_version": 3,
     "solution": false,
     "task": false
    }
   },
   "outputs": [
    {
     "name": "stdout",
     "output_type": "stream",
     "text": [
      "41.4 µs ± 487 ns per loop (mean ± std. dev. of 7 runs, 10,000 loops each)\n"
     ]
    }
   ],
   "source": [
    "%%timeit\n",
    "\n",
    "# Solve system by Gaussian elimination\n",
    "x = la.solve(A,b)"
   ]
  },
  {
   "cell_type": "code",
   "execution_count": 43,
   "id": "c55cfa7e",
   "metadata": {
    "deletable": false,
    "editable": false,
    "nbgrader": {
     "cell_type": "code",
     "checksum": "df272571220ad93dfe163b3712ca9afa",
     "grade": false,
     "grade_id": "cell-6afbd3866723fa80",
     "locked": true,
     "schema_version": 3,
     "solution": false,
     "task": false
    }
   },
   "outputs": [
    {
     "name": "stdout",
     "output_type": "stream",
     "text": [
      "27.9 µs ± 87.4 ns per loop (mean ± std. dev. of 7 runs, 10,000 loops each)\n"
     ]
    }
   ],
   "source": [
    "%%timeit\n",
    "\n",
    "# Solve system with forward/backward substitution given LU decompositon \n",
    "y1 = la.solve_triangular(L,b,lower=True)\n",
    "x1 = la.solve_triangular(U,y1,lower=False)"
   ]
  },
  {
   "attachments": {},
   "cell_type": "markdown",
   "id": "6c3c3084",
   "metadata": {
    "deletable": false,
    "editable": false,
    "nbgrader": {
     "cell_type": "markdown",
     "checksum": "da82ccf31e93bf648bf5c73d08ed0fcd",
     "grade": false,
     "grade_id": "cell-273cef632d0333cf",
     "locked": true,
     "schema_version": 3,
     "solution": false,
     "task": false
    }
   },
   "source": [
    "**True** or **False**: Solving the system with forward/backward substitution given the LU decomposition is faster.\n",
    "\n",
    "Enter your response as `observation2c`."
   ]
  },
  {
   "cell_type": "code",
   "execution_count": 44,
   "id": "2c85b487",
   "metadata": {
    "deletable": false,
    "nbgrader": {
     "cell_type": "code",
     "checksum": "a8b92a1d8a064632531abbf19bbdebe3",
     "grade": false,
     "grade_id": "cell-8e163b195c7a17fe",
     "locked": false,
     "schema_version": 3,
     "solution": true,
     "task": false
    }
   },
   "outputs": [],
   "source": [
    "\n",
    "# YOUR CODE HERE\n",
    "observation2c = True "
   ]
  },
  {
   "cell_type": "code",
   "execution_count": 45,
   "id": "96db8077",
   "metadata": {
    "deletable": false,
    "editable": false,
    "nbgrader": {
     "cell_type": "code",
     "checksum": "74442053773847113bce411b821a70fd",
     "grade": true,
     "grade_id": "cell-3916ccec921eb11d",
     "locked": true,
     "points": 1,
     "schema_version": 3,
     "solution": false,
     "task": false
    }
   },
   "outputs": [
    {
     "name": "stdout",
     "output_type": "stream",
     "text": [
      "Problem 2c Test 1: Success!\n"
     ]
    }
   ],
   "source": [
    "\"Verify value of observation2c. This cell contains hidden tests. (1 mark)\"\n",
    "assert isinstance(observation2c, bool) , \"observation2c should be True or False.\"\n",
    "print(\"Problem 2c Test 1: Success!\")"
   ]
  },
  {
   "attachments": {},
   "cell_type": "markdown",
   "id": "2b806962",
   "metadata": {
    "deletable": false,
    "editable": false,
    "nbgrader": {
     "cell_type": "markdown",
     "checksum": "3b2a75fe6c6b960f4fa6ed459db3861b",
     "grade": false,
     "grade_id": "cell-5c67317d4d55a20a",
     "locked": true,
     "schema_version": 3,
     "solution": false,
     "task": false
    }
   },
   "source": [
    "## Problem 3 (4 marks)\n",
    "\n",
    "Let $c \\in \\mathbb{R}$ and consider the $N \\times N$ matrix\n",
    "\n",
    "$$\n",
    "A =  \\left[ \\begin{array}{ccccc}\n",
    "c & 1 & & & \\\\\n",
    "1 & c & 1 & & \\\\\n",
    "& \\ddots & \\ddots & \\ddots & \\\\\n",
    "& & 1 & c & 1 \\\\\n",
    "& & & 1 & c \\\\\n",
    "\\end{array}\n",
    "\\right]\n",
    "$$\n",
    "\n",
    "Use the function `np.diag` (see [documentation](https://numpy.org/doc/stable/reference/generated/numpy.diag.html)) to construct $A$. Use the function `np.linalg.cond` (see [documentation](https://numpy.org/doc/stable/reference/generated/numpy.linalg.cond.html)) to compute the condition number."
   ]
  },
  {
   "attachments": {},
   "cell_type": "markdown",
   "id": "8af41982",
   "metadata": {
    "deletable": false,
    "editable": false,
    "nbgrader": {
     "cell_type": "markdown",
     "checksum": "99946c5cd21ed56475873949c514677e",
     "grade": false,
     "grade_id": "cell-72955b2a3e8bcf6c",
     "locked": true,
     "schema_version": 3,
     "solution": false,
     "task": false
    }
   },
   "source": [
    "### Problem 3a (2 marks)\n",
    "\n",
    "Compute the condition number of $A$ for $N = 25$ and $c = 7$. Save the result as `C`."
   ]
  },
  {
   "cell_type": "code",
   "execution_count": 54,
   "id": "622d8228",
   "metadata": {
    "deletable": false,
    "nbgrader": {
     "cell_type": "code",
     "checksum": "c36d4c869954a453dc5c43d279cdcfa6",
     "grade": false,
     "grade_id": "cell-153414c0ff3c9fe8",
     "locked": false,
     "schema_version": 3,
     "solution": true,
     "task": false
    }
   },
   "outputs": [
    {
     "data": {
      "text/plain": [
       "1.7918576856454573"
      ]
     },
     "execution_count": 54,
     "metadata": {},
     "output_type": "execute_result"
    }
   ],
   "source": [
    "N=25\n",
    "mainDiag=np.full(N, 7)\n",
    "otherDiag=np.full(N-1, 1)\n",
    "A = np.diag(mainDiag)+np.diag(otherDiag,1)+np.diag(otherDiag,-1)\n",
    "C = np.linalg.cond(A)\n",
    "C"
   ]
  },
  {
   "cell_type": "code",
   "execution_count": 55,
   "id": "adcc6063",
   "metadata": {
    "deletable": false,
    "editable": false,
    "nbgrader": {
     "cell_type": "code",
     "checksum": "2740016ad118501c27894ad95bb5d613",
     "grade": true,
     "grade_id": "cell-4c5578d3117db318",
     "locked": true,
     "points": 1,
     "schema_version": 3,
     "solution": false,
     "task": false
    }
   },
   "outputs": [
    {
     "name": "stdout",
     "output_type": "stream",
     "text": [
      "Problem 3a Test 1: Success!\n"
     ]
    }
   ],
   "source": [
    "\"Verify type of C. (1 mark)\"\n",
    "assert isinstance(C,np.float64)\n",
    "print(\"Problem 3a Test 1: Success!\")"
   ]
  },
  {
   "cell_type": "code",
   "execution_count": 56,
   "id": "59fe6309",
   "metadata": {
    "deletable": false,
    "editable": false,
    "nbgrader": {
     "cell_type": "code",
     "checksum": "68db8a7a83a76dc56688cb7e4f18def9",
     "grade": true,
     "grade_id": "cell-a77f6b7b44c202d8",
     "locked": true,
     "points": 1,
     "schema_version": 3,
     "solution": false,
     "task": false
    }
   },
   "outputs": [
    {
     "name": "stdout",
     "output_type": "stream",
     "text": [
      "Problem 3a Test 2: Success!\n"
     ]
    }
   ],
   "source": [
    "\"Verify value of C. This cell contains hidden tests. (1 mark)\"\n",
    "assert C > 0\n",
    "print(\"Problem 3a Test 2: Success!\")"
   ]
  },
  {
   "attachments": {},
   "cell_type": "markdown",
   "id": "e452736b",
   "metadata": {
    "deletable": false,
    "editable": false,
    "nbgrader": {
     "cell_type": "markdown",
     "checksum": "a1ca3d90d861265eb1783dd11f1d211d",
     "grade": false,
     "grade_id": "cell-55231d3fa1c72677",
     "locked": true,
     "schema_version": 3,
     "solution": false,
     "task": false
    }
   },
   "source": [
    "### Problem 3b (2 marks)\n",
    "\n",
    "Compute the condition number for $A$ for several different values $N$ and $c$. Observe the results and answer the following question.\n",
    "\n",
    "**True** or **False**: For any integer $N>0$, the condition number of $A$ converges to 1 as $c \\to \\infty$. Enter your response `observation3b` as either **True** or **False**."
   ]
  },
  {
   "cell_type": "code",
   "execution_count": 3,
   "id": "380a1de5",
   "metadata": {
    "deletable": false,
    "nbgrader": {
     "cell_type": "code",
     "checksum": "aa1f34416fd20ac94dc10206f3cfb0b4",
     "grade": false,
     "grade_id": "cell-008e649f5391bea2",
     "locked": false,
     "schema_version": 3,
     "solution": true,
     "task": false
    }
   },
   "outputs": [
    {
     "name": "stdout",
     "output_type": "stream",
     "text": [
      "1.4978671293378347\n"
     ]
    }
   ],
   "source": [
    "N=37\n",
    "mainDiag=np.full(N, 10)\n",
    "otherDiag=np.full(N-1, 1)\n",
    "A = np.diag(mainDiag)+np.diag(otherDiag,1)+np.diag(otherDiag,-1)\n",
    "C = np.linalg.cond(A)\n",
    "print(C)\n",
    "observation3b = True"
   ]
  },
  {
   "cell_type": "code",
   "execution_count": 4,
   "id": "c385daa4",
   "metadata": {
    "deletable": false,
    "editable": false,
    "nbgrader": {
     "cell_type": "code",
     "checksum": "86af6916915a2871bee82647aedfd477",
     "grade": true,
     "grade_id": "cell-724d13ccc4050606",
     "locked": true,
     "points": 1,
     "schema_version": 3,
     "solution": false,
     "task": false
    }
   },
   "outputs": [
    {
     "name": "stdout",
     "output_type": "stream",
     "text": [
      "Problem 3b Test 1: Success!\n"
     ]
    }
   ],
   "source": [
    "\"Verify type of observation3b. (1 mark)\"\n",
    "assert isinstance(observation3b,bool) , \"observation3b should be either True or False\"\n",
    "print(\"Problem 3b Test 1: Success!\")"
   ]
  },
  {
   "cell_type": "code",
   "execution_count": 5,
   "id": "7c82e261",
   "metadata": {
    "deletable": false,
    "editable": false,
    "nbgrader": {
     "cell_type": "code",
     "checksum": "1317546097a054e4d069790a2807ad07",
     "grade": true,
     "grade_id": "cell-53f34563ec05db25",
     "locked": true,
     "points": 1,
     "schema_version": 3,
     "solution": false,
     "task": false
    }
   },
   "outputs": [
    {
     "name": "stdout",
     "output_type": "stream",
     "text": [
      "Problem 3b Test 2: Success!\n"
     ]
    }
   ],
   "source": [
    "\"Verify value of observation3b. This cell contains hidden tests. (1 mark)\"\n",
    "assert isinstance(observation3b,bool) , \"observation3b should be either True or False\"\n",
    "print(\"Problem 3b Test 2: Success!\")"
   ]
  },
  {
   "attachments": {},
   "cell_type": "markdown",
   "id": "624a8d40",
   "metadata": {
    "deletable": false,
    "editable": false,
    "nbgrader": {
     "cell_type": "markdown",
     "checksum": "ff6b896aca085742afe88511f3f249ca",
     "grade": false,
     "grade_id": "cell-32b1c1cef7a5bb8e",
     "locked": true,
     "schema_version": 3,
     "solution": false,
     "task": false
    }
   },
   "source": [
    "## Problem 4 (2 marks)\n",
    "\n",
    "Find the smallest integer $N$ such that the Vandermonde matrix for data points $t_0=0,\\dots,t_N=N$ has condition number greater than $10^9$.\n",
    "\n",
    "Use `np.vander` to create the Vandermonde matrix. See the [documentation](https://numpy.org/doc/stable/reference/generated/numpy.vander.html).\n",
    "\n",
    "Use the function `np.linalg.cond` to compute the condition number. See the [documentation](https://numpy.org/doc/stable/reference/generated/numpy.linalg.cond.html)."
   ]
  },
  {
   "cell_type": "code",
   "execution_count": 15,
   "id": "6a8623b4",
   "metadata": {
    "deletable": false,
    "nbgrader": {
     "cell_type": "code",
     "checksum": "afd5880c38c737e037c3f2f6ba714dae",
     "grade": false,
     "grade_id": "cell-cdcbc9d9003cab37",
     "locked": false,
     "schema_version": 3,
     "solution": true,
     "task": false
    }
   },
   "outputs": [
    {
     "data": {
      "text/plain": [
       "9"
      ]
     },
     "execution_count": 15,
     "metadata": {},
     "output_type": "execute_result"
    }
   ],
   "source": [
    "# YOUR CODE HERE\n",
    "np.arange(N)\n",
    "N = 0\n",
    "cond=0\n",
    "while(cond<(10**9)):\n",
    "    N+=1\n",
    "    vandeMatrix=np.vander(np.arange(N), increasing=True)\n",
    "    cond=np.linalg.cond(vandeMatrix)\n",
    "N"
   ]
  },
  {
   "cell_type": "code",
   "execution_count": 16,
   "id": "6cc1e0e7",
   "metadata": {
    "deletable": false,
    "editable": false,
    "nbgrader": {
     "cell_type": "code",
     "checksum": "2d6956b9ac4827d333051e303ce5a5b1",
     "grade": true,
     "grade_id": "cell-168ac5b6edb7930f",
     "locked": true,
     "points": 1,
     "schema_version": 3,
     "solution": false,
     "task": false
    }
   },
   "outputs": [
    {
     "name": "stdout",
     "output_type": "stream",
     "text": [
      "Problem 4 Test 1: Success!\n"
     ]
    }
   ],
   "source": [
    "\"Verify type of N. (1 mark)\"\n",
    "assert isinstance(N,int) , \"N should be an integer\"\n",
    "print(\"Problem 4 Test 1: Success!\")"
   ]
  },
  {
   "cell_type": "code",
   "execution_count": 17,
   "id": "3dc2ff18",
   "metadata": {
    "deletable": false,
    "editable": false,
    "nbgrader": {
     "cell_type": "code",
     "checksum": "07c03a744fe5022f4027327d55ff0950",
     "grade": true,
     "grade_id": "cell-0042a1b0fd5ba4b0",
     "locked": true,
     "points": 1,
     "schema_version": 3,
     "solution": false,
     "task": false
    }
   },
   "outputs": [
    {
     "name": "stdout",
     "output_type": "stream",
     "text": [
      "Problem 4 Test 2: Success!\n"
     ]
    }
   ],
   "source": [
    "\"Verify value of N. This cell contains hidden tests. (1 mark)\"\n",
    "assert N > 0 , \"N should be an integer\"\n",
    "print(\"Problem 4 Test 2: Success!\")"
   ]
  },
  {
   "attachments": {},
   "cell_type": "markdown",
   "id": "24902542",
   "metadata": {
    "deletable": false,
    "editable": false,
    "nbgrader": {
     "cell_type": "markdown",
     "checksum": "613e324aea94e46022e340f749c719a1",
     "grade": false,
     "grade_id": "cell-c79a2ee10400d259",
     "locked": true,
     "schema_version": 3,
     "solution": false,
     "task": false
    }
   },
   "source": [
    "## Problem 5 (3 marks)\n",
    "\n",
    "The data in the cell below records the average daily temperature in [Alert, Nunavut](https://en.wikipedia.org/wiki/Alert,_Nunavut) in April 2006 (see [Environment and Climate Change Canada](https://climate.weather.gc.ca)). Note that there are days with missing data. The goal of this exercise is to interpolate the data with a natural cubic spline and predict the temperature on the days without a measurement."
   ]
  },
  {
   "cell_type": "code",
   "execution_count": 18,
   "id": "5cb0def7",
   "metadata": {
    "deletable": false,
    "editable": false,
    "nbgrader": {
     "cell_type": "code",
     "checksum": "eeda309dc6377219171c92afe1c0742d",
     "grade": false,
     "grade_id": "cell-557d959320a8d675",
     "locked": true,
     "schema_version": 3,
     "solution": false,
     "task": false
    }
   },
   "outputs": [
    {
     "data": {
      "image/png": "[encoded data removed]",
      "text/plain": [
       "<Figure size 1400x500 with 1 Axes>"
      ]
     },
     "metadata": {},
     "output_type": "display_data"
    }
   ],
   "source": [
    "day = [1,2,3,4,5,6,9,10,11,12,14,15,16,17,18,19,20,21,22,23,24,25,26,29,30]\n",
    "temperature = [-31.3,-30.9,-30.2,-30.5,-26.8,-28.0,-30.8,-23.4,-18.3,-19.6,-25.1,-21.9,-25.9,-29.4,-28.7,-22.7,-23.1,-19.6,-21.1,-14.8,-15.6,-11.8,-11.2,-15.1,-13.7]\n",
    "\n",
    "plt.figure(figsize=(14,5))\n",
    "plt.plot(day,temperature,'.')\n",
    "plt.title('Average Daily Temperature, Alert, Nunavut (April 2006)')\n",
    "plt.xlabel('Day'), plt.ylabel('Temperature (C)')\n",
    "plt.grid(True)\n",
    "plt.show()"
   ]
  },
  {
   "attachments": {},
   "cell_type": "markdown",
   "id": "da97c815",
   "metadata": {
    "deletable": false,
    "editable": false,
    "nbgrader": {
     "cell_type": "markdown",
     "checksum": "1bf86758d7bf1e57ad570d5772f3ecb9",
     "grade": false,
     "grade_id": "cell-4b33b0e9f4325fe7",
     "locked": true,
     "schema_version": 3,
     "solution": false,
     "task": false
    }
   },
   "source": [
    "### Problem 5a (2 marks)\n",
    "\n",
    "Use the function `scipy.interpolate.CubicSpline` to compute the natural cubic spline `p` of the data. See the [documentation](https://docs.scipy.org/doc/scipy/reference/generated/scipy.interpolate.CubicSpline.html). Note that the natural cubic spline condition requires `bc_type='natural'`."
   ]
  },
  {
   "cell_type": "code",
   "execution_count": 19,
   "id": "ec297002",
   "metadata": {
    "deletable": false,
    "nbgrader": {
     "cell_type": "code",
     "checksum": "864800ed0bd48ddf962c43deeb51384d",
     "grade": false,
     "grade_id": "cell-ae8a17e70e74e11b",
     "locked": false,
     "schema_version": 3,
     "solution": true,
     "task": false
    }
   },
   "outputs": [],
   "source": [
    "from scipy.interpolate import CubicSpline\n",
    "\n",
    "# YOUR CODE HERE\n",
    "p = CubicSpline(day, temperature)"
   ]
  },
  {
   "cell_type": "code",
   "execution_count": 20,
   "id": "56092f6e",
   "metadata": {
    "deletable": false,
    "editable": false,
    "nbgrader": {
     "cell_type": "code",
     "checksum": "ffef7ffb732b42a0d6080701dc4aa23a",
     "grade": true,
     "grade_id": "cell-6c994c4f25803d95",
     "locked": true,
     "points": 1,
     "schema_version": 3,
     "solution": false,
     "task": false
    }
   },
   "outputs": [
    {
     "name": "stdout",
     "output_type": "stream",
     "text": [
      "Problem 5a Test 1: Success!\n"
     ]
    }
   ],
   "source": [
    "\"Verify type of p. (1 mark)\"\n",
    "assert isinstance(p,CubicSpline) , \"p should be a CubicSpline object.\"\n",
    "print(\"Problem 5a Test 1: Success!\")"
   ]
  },
  {
   "cell_type": "code",
   "execution_count": 21,
   "id": "d800a17b",
   "metadata": {
    "deletable": false,
    "editable": false,
    "nbgrader": {
     "cell_type": "code",
     "checksum": "cf852e8cf01f35875e3d4c54a219a4b5",
     "grade": true,
     "grade_id": "cell-6c7f4fbe2aa15a94",
     "locked": true,
     "points": 1,
     "schema_version": 3,
     "solution": false,
     "task": false
    }
   },
   "outputs": [
    {
     "name": "stdout",
     "output_type": "stream",
     "text": [
      "Problem 5a Test 2: Success!\n"
     ]
    }
   ],
   "source": [
    "\"Verify the coefficient matrix of p. This cell contains hidden tests. (1 mark)\"\n",
    "assert p.c.shape == (4,24) , \"Coefficient of matrix should be 4 by 24.\"\n",
    "print(\"Problem 5a Test 2: Success!\")"
   ]
  },
  {
   "attachments": {},
   "cell_type": "markdown",
   "id": "b40c6534",
   "metadata": {
    "deletable": false,
    "editable": false,
    "nbgrader": {
     "cell_type": "markdown",
     "checksum": "8dcc312d0ed1fc387b463217ce97fd05",
     "grade": false,
     "grade_id": "cell-8b637838469f6353",
     "locked": true,
     "schema_version": 3,
     "solution": false,
     "task": false
    }
   },
   "source": [
    "Plot the cubic spline with the data."
   ]
  },
  {
   "cell_type": "code",
   "execution_count": 22,
   "id": "75ba6975",
   "metadata": {
    "deletable": false,
    "editable": false,
    "nbgrader": {
     "cell_type": "code",
     "checksum": "86b688aaabefb5347a6750460b7af75b",
     "grade": false,
     "grade_id": "cell-428027dfe95b0908",
     "locked": true,
     "schema_version": 3,
     "solution": false,
     "task": false
    }
   },
   "outputs": [
    {
     "data": {
      "image/png": "[encoded data removed]",
      "text/plain": [
       "<Figure size 1400x500 with 1 Axes>"
      ]
     },
     "metadata": {},
     "output_type": "display_data"
    }
   ],
   "source": [
    "plt.figure(figsize=(14,5))\n",
    "d = np.linspace(1,30,200)\n",
    "t = p(d)\n",
    "plt.plot(d,t,'r')\n",
    "plt.plot(day,temperature,'.b')\n",
    "plt.title('Average Daily Temperature in Alert, Nunavut (April 2006)')\n",
    "plt.xlabel('Day'), plt.ylabel('Temperature (C)')\n",
    "plt.grid(True)\n",
    "plt.show()"
   ]
  },
  {
   "attachments": {},
   "cell_type": "markdown",
   "id": "115064a6",
   "metadata": {
    "deletable": false,
    "editable": false,
    "nbgrader": {
     "cell_type": "markdown",
     "checksum": "884aa38b230b9cc14f37841e3dca3ea2",
     "grade": false,
     "grade_id": "cell-97315786468483bf",
     "locked": true,
     "schema_version": 3,
     "solution": false,
     "task": false
    }
   },
   "source": [
    "### Problem 5b (1 mark)\n",
    "\n",
    "We can use the cubic spline object `p` as a function to compute the temperature at any point. Compute the temperature for `d = 8` and assign the result to `T8`."
   ]
  },
  {
   "cell_type": "code",
   "execution_count": 26,
   "id": "6c5cfd90",
   "metadata": {
    "deletable": false,
    "nbgrader": {
     "cell_type": "code",
     "checksum": "6155e3860bcc78d4a45c3549c490f53f",
     "grade": false,
     "grade_id": "cell-e6e4759e430a0f94",
     "locked": false,
     "schema_version": 3,
     "solution": true,
     "task": false
    }
   },
   "outputs": [],
   "source": [
    "# YOUR CODE HERE\n",
    "T8 = p(8)"
   ]
  },
  {
   "cell_type": "code",
   "execution_count": 27,
   "id": "1c200cde",
   "metadata": {
    "deletable": false,
    "editable": false,
    "nbgrader": {
     "cell_type": "code",
     "checksum": "15d3ab28bc25b158b036ae9345295f1d",
     "grade": true,
     "grade_id": "cell-011c6a3592b6dc07",
     "locked": true,
     "points": 1,
     "schema_version": 3,
     "solution": false,
     "task": false
    }
   },
   "outputs": [
    {
     "name": "stdout",
     "output_type": "stream",
     "text": [
      "Problem 5b Test 1: Success!\n"
     ]
    }
   ],
   "source": [
    "\"Verify the value of T8. This cell contains hidden tests. (1 mark)\"\n",
    "assert T8 < 0 , \"The temperature should be below 0.\"\n",
    "print(\"Problem 5b Test 1: Success!\")"
   ]
  },
  {
   "attachments": {},
   "cell_type": "markdown",
   "id": "051266ad",
   "metadata": {
    "deletable": false,
    "editable": false,
    "nbgrader": {
     "cell_type": "markdown",
     "checksum": "6adbe0880ea4defc201519c146748a41",
     "grade": false,
     "grade_id": "cell-b043222abae67cfd",
     "locked": true,
     "schema_version": 3,
     "solution": false,
     "task": false
    }
   },
   "source": [
    "## Problem 6 (6 marks)\n",
    "\n",
    "The goal of this problem is to find the unique function of the form\n",
    "\n",
    "$$\n",
    "f(t) = c_0 + c_1 \\cos(\\pi t) + c_2 \\cos(2 \\pi t) + c_3 \\cos(3 \\pi t) + c_4 \\cos(4 \\pi t) + c_5 \\cos(5 \\pi t)\n",
    "$$\n",
    "\n",
    "which interpolates the data\n",
    "\n",
    "$$\n",
    "(0.0,0.86198775) \\ , \\ (0.2,0.42221378) \\ , \\ (0.4,0.67085031) \\ , \\ (0.6,0.81337281) \\ , \\ (0.8,0.06133098) \\ , \\ (1.0,0.18599908)\n",
    "$$"
   ]
  },
  {
   "cell_type": "code",
   "execution_count": 48,
   "id": "cdb69f76",
   "metadata": {
    "deletable": false,
    "editable": false,
    "nbgrader": {
     "cell_type": "code",
     "checksum": "9223853b9a48ea90b60faf374eff03c4",
     "grade": false,
     "grade_id": "cell-593f3ee8e7068c44",
     "locked": true,
     "schema_version": 3,
     "solution": false,
     "task": false
    }
   },
   "outputs": [
    {
     "data": {
      "image/png": "[encoded data removed]",
      "text/plain": [
       "<Figure size 640x480 with 1 Axes>"
      ]
     },
     "metadata": {},
     "output_type": "display_data"
    }
   ],
   "source": [
    "t = [ 0.0, 0.2, 0.4, 0.6, 0.8, 1.0 ]\n",
    "y = [ 0.86198775, 0.42221378, 0.67085031, 0.81337281, 0.06133098, 0.18599908 ]\n",
    "plt.plot(t,y,'b.'), plt.grid(True)\n",
    "plt.show()"
   ]
  },
  {
   "attachments": {},
   "cell_type": "markdown",
   "id": "5d495a7d",
   "metadata": {
    "deletable": false,
    "editable": false,
    "nbgrader": {
     "cell_type": "markdown",
     "checksum": "a6ebf49c653878052674de8dd7d99cc5",
     "grade": false,
     "grade_id": "cell-3bbb363ea223fdfc",
     "locked": true,
     "schema_version": 3,
     "solution": false,
     "task": false
    }
   },
   "source": [
    "### Problem 6a (3 marks)\n",
    "\n",
    "Copy/paste/modify the code below to create the matrix $A_1$ such that the solution of $A_1 \\mathbf{c} = \\mathbf{y}$ is the vector $\\mathbf{c}$ of coefficients (and $\\mathbf{y}$ is the vector of $y$ values)\n",
    "\n",
    "$$\n",
    "\\mathbf{c} = \\begin{bmatrix} c_0 \\\\ c_1 \\\\ c_2 \\\\ c_3 \\\\ c_4 \\\\ c_5 \\end{bmatrix}\n",
    "\\hspace{1in}\n",
    "\\mathbf{y} = \\begin{bmatrix} y_0 \\\\ y_1 \\\\ y_2 \\\\ y_3 \\\\ y_4 \\\\ y_5 \\end{bmatrix}\n",
    "$$\n",
    "\n",
    "```\n",
    "t = np.linspace(0,1,3)\n",
    "A1 = np.stack([np.ones(3),np.cos(np.pi*t),np.cos(2*np.pi*t)],axis=1)\n",
    "```"
   ]
  },
  {
   "cell_type": "code",
   "execution_count": 49,
   "id": "227e2a31",
   "metadata": {
    "deletable": false,
    "nbgrader": {
     "cell_type": "code",
     "checksum": "8fe1488c5abce184cbf82091dc4c3c5e",
     "grade": false,
     "grade_id": "cell-91089b39b0e37aac",
     "locked": false,
     "schema_version": 3,
     "solution": true,
     "task": false
    }
   },
   "outputs": [
    {
     "data": {
      "text/plain": [
       "array([[ 1.        ,  1.        ,  1.        ,  1.        ,  1.        ,\n",
       "         1.        ],\n",
       "       [ 1.        ,  0.80901699,  0.30901699, -0.30901699, -0.80901699,\n",
       "        -1.        ],\n",
       "       [ 1.        ,  0.30901699, -0.80901699, -0.80901699,  0.30901699,\n",
       "         1.        ],\n",
       "       [ 1.        , -0.30901699, -0.80901699,  0.80901699,  0.30901699,\n",
       "        -1.        ],\n",
       "       [ 1.        , -0.80901699,  0.30901699,  0.30901699, -0.80901699,\n",
       "         1.        ],\n",
       "       [ 1.        , -1.        ,  1.        , -1.        ,  1.        ,\n",
       "        -1.        ]])"
      ]
     },
     "execution_count": 49,
     "metadata": {},
     "output_type": "execute_result"
    }
   ],
   "source": [
    "# YOUR CODE HERE\n",
    "t=np.array(t)\n",
    "A1 = np.stack([np.ones(len(t)), np.cos(np.pi*t), np.cos(2*np.pi*t), np.cos(3*np.pi*t), np.cos(4*np.pi*t), np.cos(5*np.pi*t)], axis=1) \n",
    "A1"
   ]
  },
  {
   "cell_type": "code",
   "execution_count": 50,
   "id": "54eda627",
   "metadata": {
    "deletable": false,
    "editable": false,
    "nbgrader": {
     "cell_type": "code",
     "checksum": "e52072879f75bafe908783949e55ed91",
     "grade": true,
     "grade_id": "cell-4efabbaf91931732",
     "locked": true,
     "points": 1,
     "schema_version": 3,
     "solution": false,
     "task": false
    }
   },
   "outputs": [
    {
     "name": "stdout",
     "output_type": "stream",
     "text": [
      "Problem 6a Test 1: Success!\n"
     ]
    }
   ],
   "source": [
    "\"Verify the type of A1. (1 mark)\"\n",
    "assert isinstance(A1,np.ndarray)\n",
    "print(\"Problem 6a Test 1: Success!\")"
   ]
  },
  {
   "cell_type": "code",
   "execution_count": 51,
   "id": "7145c036",
   "metadata": {
    "deletable": false,
    "editable": false,
    "nbgrader": {
     "cell_type": "code",
     "checksum": "c44ac39e53cfd1f73261e35bd186ae6d",
     "grade": true,
     "grade_id": "cell-010f0a187d215b12",
     "locked": true,
     "points": 1,
     "schema_version": 3,
     "solution": false,
     "task": false
    }
   },
   "outputs": [
    {
     "name": "stdout",
     "output_type": "stream",
     "text": [
      "Problem 6a Test 2: Success!\n"
     ]
    }
   ],
   "source": [
    "\"Verify the shape of A1. (1 mark)\"\n",
    "assert A1.shape == (6,6)\n",
    "print(\"Problem 6a Test 2: Success!\")"
   ]
  },
  {
   "cell_type": "code",
   "execution_count": 52,
   "id": "2725c693",
   "metadata": {
    "deletable": false,
    "editable": false,
    "nbgrader": {
     "cell_type": "code",
     "checksum": "cbd35d831406f10605fa72daad8d85fb",
     "grade": true,
     "grade_id": "cell-e1fefe72779487e0",
     "locked": true,
     "points": 1,
     "schema_version": 3,
     "solution": false,
     "task": false
    }
   },
   "outputs": [
    {
     "name": "stdout",
     "output_type": "stream",
     "text": [
      "Problem 6a Test 3: Success!\n"
     ]
    }
   ],
   "source": [
    "\"Verify values of A1. This cell contains hidden tests. (1 mark)\"\n",
    "assert A1[0,0] == 1.0\n",
    "print(\"Problem 6a Test 3: Success!\")"
   ]
  },
  {
   "attachments": {},
   "cell_type": "markdown",
   "id": "97ffd7a4",
   "metadata": {
    "deletable": false,
    "editable": false,
    "nbgrader": {
     "cell_type": "markdown",
     "checksum": "b69e1c1db66d86a68d59d8109f2fa6dc",
     "grade": false,
     "grade_id": "cell-add12132f4f152e8",
     "locked": true,
     "schema_version": 3,
     "solution": false,
     "task": false
    }
   },
   "source": [
    "### Problem 6b (3 marks)\n",
    "\n",
    "Use `scipy.linalg.solve` to compute the solution `c`."
   ]
  },
  {
   "cell_type": "code",
   "execution_count": 54,
   "id": "577677af",
   "metadata": {
    "deletable": false,
    "nbgrader": {
     "cell_type": "code",
     "checksum": "63dd342a0acfbadf8752038c27b3e1c8",
     "grade": false,
     "grade_id": "cell-10860d9794b27122",
     "locked": false,
     "schema_version": 3,
     "solution": true,
     "task": false
    }
   },
   "outputs": [],
   "source": [
    "# YOUR CODE HERE\n",
    "c = la.solve(A1,y)"
   ]
  },
  {
   "cell_type": "code",
   "execution_count": 55,
   "id": "4818a8b2",
   "metadata": {
    "deletable": false,
    "editable": false,
    "nbgrader": {
     "cell_type": "code",
     "checksum": "28972cbf605c62ef0345e7146903a4dc",
     "grade": true,
     "grade_id": "cell-8b48e7fac71cbee5",
     "locked": true,
     "points": 1,
     "schema_version": 3,
     "solution": false,
     "task": false
    }
   },
   "outputs": [
    {
     "name": "stdout",
     "output_type": "stream",
     "text": [
      "Problem 6b Test 1: Success!\n"
     ]
    }
   ],
   "source": [
    "\"Verify the type of c. (1 mark)\"\n",
    "assert isinstance(c,np.ndarray)\n",
    "print(\"Problem 6b Test 1: Success!\")"
   ]
  },
  {
   "cell_type": "code",
   "execution_count": 56,
   "id": "274afae4",
   "metadata": {
    "deletable": false,
    "editable": false,
    "nbgrader": {
     "cell_type": "code",
     "checksum": "b43065ec2c9f5a96d2c7bd991c3a2306",
     "grade": true,
     "grade_id": "cell-8177c4b56392ec93",
     "locked": true,
     "points": 1,
     "schema_version": 3,
     "solution": false,
     "task": false
    }
   },
   "outputs": [
    {
     "name": "stdout",
     "output_type": "stream",
     "text": [
      "Problem 6b Test 2: Success!\n"
     ]
    }
   ],
   "source": [
    "\"Verify the size of c. (1 mark)\"\n",
    "assert c.size == 6\n",
    "print(\"Problem 6b Test 2: Success!\")"
   ]
  },
  {
   "cell_type": "code",
   "execution_count": 57,
   "id": "435fed44",
   "metadata": {
    "deletable": false,
    "editable": false,
    "nbgrader": {
     "cell_type": "code",
     "checksum": "88c8bce7b679aeb335395de9325c0247",
     "grade": true,
     "grade_id": "cell-b904853e0184df7d",
     "locked": true,
     "points": 1,
     "schema_version": 3,
     "solution": false,
     "task": false
    }
   },
   "outputs": [
    {
     "name": "stdout",
     "output_type": "stream",
     "text": [
      "Problem 6b Test 3: Success!\n"
     ]
    }
   ],
   "source": [
    "\"Verify values of c. This cell contains hidden tests. (1 mark)\"\n",
    "assert np.allclose(c[0],0.49835226)\n",
    "print(\"Problem 6b Test 3: Success!\")"
   ]
  },
  {
   "attachments": {},
   "cell_type": "markdown",
   "id": "efc5c78d",
   "metadata": {
    "deletable": false,
    "editable": false,
    "nbgrader": {
     "cell_type": "markdown",
     "checksum": "97eaf131b2411d5ed8cfd0ec320a85c5",
     "grade": false,
     "grade_id": "cell-75a7a3155fd9b6ba",
     "locked": true,
     "schema_version": 3,
     "solution": false,
     "task": false
    }
   },
   "source": [
    "Plot the result to see how the function fits the data:"
   ]
  },
  {
   "cell_type": "code",
   "execution_count": 58,
   "id": "f7d8fef8",
   "metadata": {
    "deletable": false,
    "editable": false,
    "nbgrader": {
     "cell_type": "code",
     "checksum": "4c57959a2ead3819d10fd88c365c9253",
     "grade": false,
     "grade_id": "cell-7c55971caa871257",
     "locked": true,
     "schema_version": 3,
     "solution": false,
     "task": false
    }
   },
   "outputs": [
    {
     "data": {
      "image/png": "[encoded data removed]",
      "text/plain": [
       "<Figure size 640x480 with 1 Axes>"
      ]
     },
     "metadata": {},
     "output_type": "display_data"
    }
   ],
   "source": [
    "t = [ 0.0, 0.2, 0.4, 0.6, 0.8, 1.0 ]\n",
    "y = [ 0.86198775, 0.42221378, 0.67085031, 0.81337281, 0.06133098, 0.18599908 ]\n",
    "T = np.linspace(0,1,100)\n",
    "Y = sum([c[k]*np.cos(k*np.pi*T) for k in range(0,len(c))])\n",
    "plt.plot(T,Y,'r',t,y,'b.'), plt.grid(True)\n",
    "plt.show()"
   ]
  },
  {
   "attachments": {},
   "cell_type": "markdown",
   "id": "da8e4230",
   "metadata": {
    "deletable": false,
    "editable": false,
    "nbgrader": {
     "cell_type": "markdown",
     "checksum": "a9df06317194f1b43ecf07124d239bc0",
     "grade": false,
     "grade_id": "cell-d12186073cb362d5",
     "locked": true,
     "schema_version": 3,
     "solution": false,
     "task": false
    }
   },
   "source": [
    "## Problem 7 (6 marks)\n",
    "\n",
    "A [Toeplitz_matrix](https://en.wikipedia.org/wiki/Toeplitz_matrix) has constant values along the diagonal. The function `scipy.linalg.toeplitz` creates a Toeplitz matrix from a given vector. For example:"
   ]
  },
  {
   "cell_type": "code",
   "execution_count": 42,
   "id": "301b393b",
   "metadata": {
    "deletable": false,
    "editable": false,
    "nbgrader": {
     "cell_type": "code",
     "checksum": "f5104549224055149ed0a71506f65828",
     "grade": false,
     "grade_id": "cell-bd16bc7c94655229",
     "locked": true,
     "schema_version": 3,
     "solution": false,
     "task": false
    }
   },
   "outputs": [
    {
     "name": "stdout",
     "output_type": "stream",
     "text": [
      "[[-2  1  0  0  0  0  0]\n",
      " [ 1 -2  1  0  0  0  0]\n",
      " [ 0  1 -2  1  0  0  0]\n",
      " [ 0  0  1 -2  1  0  0]\n",
      " [ 0  0  0  1 -2  1  0]\n",
      " [ 0  0  0  0  1 -2  1]\n",
      " [ 0  0  0  0  0  1 -2]]\n"
     ]
    }
   ],
   "source": [
    "M = la.toeplitz([-2,1,0,0,0,0,0])\n",
    "print(M)"
   ]
  },
  {
   "attachments": {},
   "cell_type": "markdown",
   "id": "a495824e",
   "metadata": {
    "deletable": false,
    "editable": false,
    "nbgrader": {
     "cell_type": "markdown",
     "checksum": "d11b16b1131790ecab46b2e981290da1",
     "grade": false,
     "grade_id": "cell-2a5c06e1377a85a9",
     "locked": true,
     "schema_version": 3,
     "solution": false,
     "task": false
    }
   },
   "source": [
    "Notes:\n",
    "\n",
    "* Use the function `numpy.linalg.matrix_rank` to compute the rank of a matrix\n",
    "* The nullspace of $M$ is denoted $N(M)$\n",
    "* The range of $M$ is denoted $R(M)$"
   ]
  },
  {
   "attachments": {},
   "cell_type": "markdown",
   "id": "c5227a49",
   "metadata": {
    "deletable": false,
    "editable": false,
    "nbgrader": {
     "cell_type": "markdown",
     "checksum": "f88f4735c2b74bc0b86483e981111b95",
     "grade": false,
     "grade_id": "cell-61dd1eada8bd3048",
     "locked": true,
     "schema_version": 3,
     "solution": false,
     "task": false
    }
   },
   "source": [
    "### Problem 7a (2 marks)\n",
    "\n",
    "Compute the dimensions of $N(M_1)$ and $R(M_1)$ for the matrix $M_1$ below. Save responses as `nullspace_M1` and `range_M1` respectively."
   ]
  },
  {
   "cell_type": "code",
   "execution_count": 39,
   "id": "dc7da3b8",
   "metadata": {
    "deletable": false,
    "editable": false,
    "nbgrader": {
     "cell_type": "code",
     "checksum": "2c2b567c2c7e0b6ffba24d18b92cca61",
     "grade": false,
     "grade_id": "cell-c05df215fec11388",
     "locked": true,
     "schema_version": 3,
     "solution": false,
     "task": false
    }
   },
   "outputs": [
    {
     "name": "stdout",
     "output_type": "stream",
     "text": [
      "[[1 1 0 0 0 0 1]\n",
      " [1 1 1 0 0 0 0]\n",
      " [0 1 1 1 0 0 0]\n",
      " [0 0 1 1 1 0 0]\n",
      " [0 0 0 1 1 1 0]\n",
      " [0 0 0 0 1 1 1]\n",
      " [1 0 0 0 0 1 1]]\n"
     ]
    }
   ],
   "source": [
    "M1 = la.toeplitz([1,1,0,0,0,0,1])\n",
    "print(M1)"
   ]
  },
  {
   "cell_type": "code",
   "execution_count": 64,
   "id": "2f2a1c3f",
   "metadata": {
    "deletable": false,
    "nbgrader": {
     "cell_type": "code",
     "checksum": "b3a4618b2b7ff93173f135daa4ce1aac",
     "grade": false,
     "grade_id": "cell-3c1eebecf939e698",
     "locked": false,
     "schema_version": 3,
     "solution": true,
     "task": false
    }
   },
   "outputs": [
    {
     "name": "stdout",
     "output_type": "stream",
     "text": [
      "[]\n",
      "7\n"
     ]
    }
   ],
   "source": [
    "nullspace_M1 = la.null_space(M1)\n",
    "range_M1 = np.linalg.matrix_rank(M1)\n",
    "print(nullspace_M1)\n",
    "print(range_M1)"
   ]
  },
  {
   "cell_type": "code",
   "execution_count": 62,
   "id": "9bb45933",
   "metadata": {
    "deletable": false,
    "editable": false,
    "nbgrader": {
     "cell_type": "code",
     "checksum": "39aec0a40f978983e6f4c573972398bd",
     "grade": true,
     "grade_id": "cell-a4a60d203799c816",
     "locked": true,
     "points": 1,
     "schema_version": 3,
     "solution": false,
     "task": false
    }
   },
   "outputs": [
    {
     "name": "stderr",
     "output_type": "stream",
     "text": [
      "C:\\Users\\Adarsh\\AppData\\Local\\Temp\\ipykernel_2824\\4210968944.py:2: DeprecationWarning: The truth value of an empty array is ambiguous. Returning False, but in future this will result in an error. Use `array.size > 0` to check that an array is not empty.\n",
      "  assert nullspace_M1 >= 0 and range_M1 >= 0\n"
     ]
    },
    {
     "ename": "AssertionError",
     "evalue": "",
     "output_type": "error",
     "traceback": [
      "\u001b[1;31m---------------------------------------------------------------------------\u001b[0m",
      "\u001b[1;31mAssertionError\u001b[0m                            Traceback (most recent call last)",
      "\u001b[1;32mc:\\Users\\Adarsh\\Downloads\\assignment1(1).ipynb Cell 69\u001b[0m in \u001b[0;36m2\n\u001b[0;32m      <a href='vscode-notebook-cell:/c%3A/Users/Adarsh/Downloads/assignment1%281%29.ipynb#Y125sZmlsZQ%3D%3D?line=0'>1</a>\u001b[0m \u001b[39m\"\u001b[39m\u001b[39mVerify nullspace_M1 and range_M1 are non-negative numbers. (1 mark)\u001b[39m\u001b[39m\"\u001b[39m\n\u001b[1;32m----> <a href='vscode-notebook-cell:/c%3A/Users/Adarsh/Downloads/assignment1%281%29.ipynb#Y125sZmlsZQ%3D%3D?line=1'>2</a>\u001b[0m \u001b[39massert\u001b[39;00m nullspace_M1 \u001b[39m>\u001b[39m\u001b[39m=\u001b[39m \u001b[39m0\u001b[39m \u001b[39mand\u001b[39;00m range_M1 \u001b[39m>\u001b[39m\u001b[39m=\u001b[39m \u001b[39m0\u001b[39m\n\u001b[0;32m      <a href='vscode-notebook-cell:/c%3A/Users/Adarsh/Downloads/assignment1%281%29.ipynb#Y125sZmlsZQ%3D%3D?line=2'>3</a>\u001b[0m \u001b[39mprint\u001b[39m(\u001b[39m\"\u001b[39m\u001b[39mProblem 7a Test 1: Success!\u001b[39m\u001b[39m\"\u001b[39m)\n",
      "\u001b[1;31mAssertionError\u001b[0m: "
     ]
    }
   ],
   "source": [
    "\"Verify nullspace_M1 and range_M1 are non-negative numbers. (1 mark)\"\n",
    "assert nullspace_M1 >= 0 and range_M1 >= 0\n",
    "print(\"Problem 7a Test 1: Success!\")"
   ]
  },
  {
   "cell_type": "code",
   "execution_count": null,
   "id": "e287077c",
   "metadata": {
    "deletable": false,
    "editable": false,
    "nbgrader": {
     "cell_type": "code",
     "checksum": "ae978170aadc7a0e2a951c561abd0528",
     "grade": true,
     "grade_id": "cell-44a3162aef1cfe58",
     "locked": true,
     "points": 1,
     "schema_version": 3,
     "solution": false,
     "task": false
    }
   },
   "outputs": [],
   "source": [
    "\"Verify values of nullspace_M1 and range_M1. This cell contains hidden tests. (1 mark)\"\n",
    "assert nullspace_M1 >= 0 and range_M1 >= 0\n",
    "print(\"Problem 7a Test 2: Success!\")"
   ]
  },
  {
   "attachments": {},
   "cell_type": "markdown",
   "id": "d310814e",
   "metadata": {
    "deletable": false,
    "editable": false,
    "nbgrader": {
     "cell_type": "markdown",
     "checksum": "2721e1f273892223108c50df45b12886",
     "grade": false,
     "grade_id": "cell-78834adbd1a27939",
     "locked": true,
     "schema_version": 3,
     "solution": false,
     "task": false
    }
   },
   "source": [
    "### Problem 7b (2 marks)\n",
    "\n",
    "Compute the dimensions of $N(M_2)$ and $R(M_2)$ for the matrix $M_2$ below. Save responses as `nullspace_M2` and `range_M2` respectively."
   ]
  },
  {
   "cell_type": "code",
   "execution_count": null,
   "id": "a4c3492f",
   "metadata": {
    "deletable": false,
    "editable": false,
    "nbgrader": {
     "cell_type": "code",
     "checksum": "dc27a68bcad5a5897addc90983504be0",
     "grade": false,
     "grade_id": "cell-e881b61ae0651387",
     "locked": true,
     "schema_version": 3,
     "solution": false,
     "task": false
    }
   },
   "outputs": [],
   "source": [
    "M2 = la.toeplitz([1,1,0,0,0,1,1])\n",
    "print(M2)"
   ]
  },
  {
   "cell_type": "code",
   "execution_count": null,
   "id": "6fbdd7d6",
   "metadata": {
    "deletable": false,
    "nbgrader": {
     "cell_type": "code",
     "checksum": "7479ffc638efc66a1fb7dbad44818504",
     "grade": false,
     "grade_id": "cell-7f55033d043cd5f8",
     "locked": false,
     "schema_version": 3,
     "solution": true,
     "task": false
    }
   },
   "outputs": [],
   "source": [
    "# YOUR CODE HERE\n",
    "nullspace_M2 = \n",
    "range_M2 = "
   ]
  },
  {
   "cell_type": "code",
   "execution_count": null,
   "id": "97fe93ae",
   "metadata": {
    "deletable": false,
    "editable": false,
    "nbgrader": {
     "cell_type": "code",
     "checksum": "c075cc34d777e83f42862dc6ce6620f1",
     "grade": true,
     "grade_id": "cell-55cbaf3255b107d7",
     "locked": true,
     "points": 1,
     "schema_version": 3,
     "solution": false,
     "task": false
    }
   },
   "outputs": [],
   "source": [
    "\"Verify nullspace_M2 and range_M2 are non-negative numbers. (1 mark)\"\n",
    "assert nullspace_M2 >= 0 and range_M2 >= 0\n",
    "print(\"Problem 7b Test 1: Success!\")"
   ]
  },
  {
   "cell_type": "code",
   "execution_count": null,
   "id": "4fa14a9a",
   "metadata": {
    "deletable": false,
    "editable": false,
    "nbgrader": {
     "cell_type": "code",
     "checksum": "484110ec002e2b9469346e12c798a8e0",
     "grade": true,
     "grade_id": "cell-48ec6520d3fc7856",
     "locked": true,
     "points": 1,
     "schema_version": 3,
     "solution": false,
     "task": false
    }
   },
   "outputs": [],
   "source": [
    "\"Verify values of nullspace_M2 and range_M2. This cell contains hidden tests. (1 mark)\"\n",
    "assert nullspace_M2 >= 0 and range_M2 >= 0\n",
    "print(\"Problem 7b Test 2: Success!\")"
   ]
  },
  {
   "attachments": {},
   "cell_type": "markdown",
   "id": "5fbf4cd3",
   "metadata": {
    "deletable": false,
    "editable": false,
    "nbgrader": {
     "cell_type": "markdown",
     "checksum": "48c150608df620d570b641982b686e9c",
     "grade": false,
     "grade_id": "cell-116eb3f3c7709835",
     "locked": true,
     "schema_version": 3,
     "solution": false,
     "task": false
    }
   },
   "source": [
    "### Problem 7c (2 marks)\n",
    "\n",
    "Compute the dimensions of $N(M_3)$ and $R(M_3)$ for the matrix $M_3$ below. Save responses as `nullspace_M3` and `range_M3` respectively."
   ]
  },
  {
   "cell_type": "code",
   "execution_count": null,
   "id": "d22a0ab5",
   "metadata": {
    "deletable": false,
    "editable": false,
    "nbgrader": {
     "cell_type": "code",
     "checksum": "3c413c70f9a157d5ab38a0c0514f4c1a",
     "grade": false,
     "grade_id": "cell-0852abd386699eca",
     "locked": true,
     "schema_version": 3,
     "solution": false,
     "task": false
    }
   },
   "outputs": [],
   "source": [
    "M3 = la.toeplitz([1,1,1,0,0,0,0])\n",
    "print(M3)"
   ]
  },
  {
   "cell_type": "code",
   "execution_count": null,
   "id": "6b327b29",
   "metadata": {
    "deletable": false,
    "nbgrader": {
     "cell_type": "code",
     "checksum": "4763778aa772c5034e43b9f6413ba9c5",
     "grade": false,
     "grade_id": "cell-495d22688c1a9598",
     "locked": false,
     "schema_version": 3,
     "solution": true,
     "task": false
    }
   },
   "outputs": [],
   "source": [
    "# YOUR CODE HERE\n",
    "nullspace_M3 = \n",
    "range_M3 = "
   ]
  },
  {
   "cell_type": "code",
   "execution_count": null,
   "id": "c7bd7b85",
   "metadata": {
    "deletable": false,
    "editable": false,
    "nbgrader": {
     "cell_type": "code",
     "checksum": "0194ac1b7ec828dc8ce2676a9cb167e2",
     "grade": true,
     "grade_id": "cell-1a8d08ef3374957b",
     "locked": true,
     "points": 1,
     "schema_version": 3,
     "solution": false,
     "task": false
    }
   },
   "outputs": [],
   "source": [
    "\"Verify nullspace_M3 and range_M3 are non-negative numbers. (1 mark)\"\n",
    "assert nullspace_M3 >= 0 and range_M3 >= 0\n",
    "print(\"Problem 7c Test 1: Success!\")"
   ]
  },
  {
   "cell_type": "code",
   "execution_count": null,
   "id": "31cef780",
   "metadata": {
    "deletable": false,
    "editable": false,
    "nbgrader": {
     "cell_type": "code",
     "checksum": "ee0904e734dd6f7f484babf4ab9a4747",
     "grade": true,
     "grade_id": "cell-b4b4582636782ba3",
     "locked": true,
     "points": 1,
     "schema_version": 3,
     "solution": false,
     "task": false
    }
   },
   "outputs": [],
   "source": [
    "\"Verify values of nullspace_M3 and range_M3. This cell contains hidden tests. (1 mark)\"\n",
    "assert nullspace_M3 >= 0 and range_M3 >= 0\n",
    "print(\"Problem 7c Test 2: Success!\")"
   ]
  }
 ],
 "metadata": {
  "kernelspec": {
   "display_name": "Python 3 (ipykernel)",
   "language": "python",
   "name": "python3"
  },
  "language_info": {
   "codemirror_mode": {
    "name": "ipython",
    "version": 3
   },
   "file_extension": ".py",
   "mimetype": "text/x-python",
   "name": "python",
   "nbconvert_exporter": "python",
   "pygments_lexer": "ipython3",
   "version": "3.10.11"
  }
 },
 "nbformat": 4,
 "nbformat_minor": 5
}
